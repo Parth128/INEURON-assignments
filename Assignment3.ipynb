{
 "cells": [
  {
   "cell_type": "code",
   "execution_count": 21,
   "id": "5fc85a58",
   "metadata": {},
   "outputs": [],
   "source": [
    "#Tuples,Set"
   ]
  },
  {
   "cell_type": "code",
   "execution_count": 47,
   "id": "d03764b4",
   "metadata": {},
   "outputs": [],
   "source": [
    "#1.1"
   ]
  },
  {
   "cell_type": "code",
   "execution_count": 48,
   "id": "103b428f",
   "metadata": {},
   "outputs": [],
   "source": [
    "#Defining 'myreduce' function.\n",
    "def myreduce(f,l):\n",
    "    a=l[0]\n",
    "    for i in range(len(l)):\n",
    "        if i!=0:\n",
    "            a=f(a,l[i])\n",
    "    return a"
   ]
  },
  {
   "cell_type": "code",
   "execution_count": 49,
   "id": "18830a73",
   "metadata": {},
   "outputs": [
    {
     "data": {
      "text/plain": [
       "27"
      ]
     },
     "execution_count": 49,
     "metadata": {},
     "output_type": "execute_result"
    }
   ],
   "source": [
    "#Example to show the demonstration of 'myreduce' function.\n",
    "lis=[0,22,5]\n",
    "ans=myreduce(lambda a,b:a+b,lis)\n",
    "\n",
    "#Printing sum of elements in a list 'lis' using 'myreduce' function.\n",
    "ans"
   ]
  },
  {
   "cell_type": "code",
   "execution_count": 50,
   "id": "79ca2415",
   "metadata": {},
   "outputs": [],
   "source": [
    "#1.2"
   ]
  },
  {
   "cell_type": "code",
   "execution_count": 51,
   "id": "db532276",
   "metadata": {},
   "outputs": [],
   "source": [
    "#Defining 'myfilter' function.\n",
    "def myfilter(f,l):\n",
    "    t=[]\n",
    "    for i in range(len(l)):\n",
    "        if f(l[i])==True:\n",
    "            t.append(l[i])\n",
    "    return t"
   ]
  },
  {
   "cell_type": "code",
   "execution_count": 52,
   "id": "bf2e9e0a",
   "metadata": {},
   "outputs": [
    {
     "data": {
      "text/plain": [
       "[12, 2]"
      ]
     },
     "execution_count": 52,
     "metadata": {},
     "output_type": "execute_result"
    }
   ],
   "source": [
    "#Example to show the demonstration of 'myfilter' function.\n",
    "\n",
    "#Defining function which returns 'True', if the number is even.\n",
    "def even(a):\n",
    "    if a%2==0:\n",
    "        return True\n",
    "\n",
    "#Filtering even no's in the list 'lis',using 'myfilter' function.\n",
    "lis=[1,12,2,3,87]\n",
    "sol=myfilter(even,lis)\n",
    "sol"
   ]
  },
  {
   "cell_type": "code",
   "execution_count": 53,
   "id": "8b47398a",
   "metadata": {},
   "outputs": [],
   "source": [
    "#2"
   ]
  },
  {
   "cell_type": "code",
   "execution_count": 16,
   "id": "40f36d24",
   "metadata": {},
   "outputs": [
    {
     "data": {
      "text/plain": [
       "['x', 'xx', 'xxx', 'xxxx', 'y', 'yy', 'yyy', 'yyyy', 'z', 'zz', 'zzz', 'zzzz']"
      ]
     },
     "execution_count": 16,
     "metadata": {},
     "output_type": "execute_result"
    }
   ],
   "source": [
    "inp=['x','y','z']\n",
    "\n",
    "lis1=[]\n",
    "for i in inp:\n",
    "    for j in range(4):\n",
    "        lis1.append(i*(j+1))\n",
    "lis1"
   ]
  },
  {
   "cell_type": "code",
   "execution_count": 17,
   "id": "c47a6f2a",
   "metadata": {},
   "outputs": [
    {
     "data": {
      "text/plain": [
       "['x', 'y', 'z', 'xx', 'yy', 'zz', 'xxx', 'yyy', 'zzz', 'xxxx', 'yyyy', 'zzzz']"
      ]
     },
     "execution_count": 17,
     "metadata": {},
     "output_type": "execute_result"
    }
   ],
   "source": [
    "inp=['x','y','z']\n",
    "\n",
    "lis2=[]\n",
    "for i in range(4):\n",
    "    for j in inp:\n",
    "        lis2.append(j*(i+1))\n",
    "lis2"
   ]
  },
  {
   "cell_type": "code",
   "execution_count": 18,
   "id": "fb680d6c",
   "metadata": {},
   "outputs": [
    {
     "data": {
      "text/plain": [
       "[[2], [3], [4], [3], [4], [5], [4], [5], [6]]"
      ]
     },
     "execution_count": 18,
     "metadata": {},
     "output_type": "execute_result"
    }
   ],
   "source": [
    "a=2 #starting value\n",
    "b=6 #ending value\n",
    "d=3 #no of no's in sub list\n",
    "\n",
    "lis3=[]\n",
    "for i in range(a,b-d+2):\n",
    "    for j in range(d):\n",
    "        lis=[]\n",
    "        lis.append(i+j)\n",
    "        lis3.append(lis)\n",
    "lis3"
   ]
  },
  {
   "cell_type": "code",
   "execution_count": 19,
   "id": "45548d9f",
   "metadata": {},
   "outputs": [
    {
     "data": {
      "text/plain": [
       "[[2, 3, 4, 5], [3, 4, 5, 6], [4, 5, 6, 7], [5, 6, 7, 8]]"
      ]
     },
     "execution_count": 19,
     "metadata": {},
     "output_type": "execute_result"
    }
   ],
   "source": [
    "a=2 #starting value\n",
    "b=8 #ending value\n",
    "d=4 #no of no's in sub list\n",
    "\n",
    "lis4=[]\n",
    "for i in range(a,b-d+2):\n",
    "    li=[]\n",
    "    for j in range(d):\n",
    "        li.append(i+j)\n",
    "    lis4.append(li)\n",
    "lis4"
   ]
  },
  {
   "cell_type": "code",
   "execution_count": 20,
   "id": "d6e7f561",
   "metadata": {},
   "outputs": [
    {
     "data": {
      "text/plain": [
       "[(1, 1), (2, 1), (3, 1), (1, 2), (2, 2), (3, 2), (1, 3), (2, 3), (3, 3)]"
      ]
     },
     "execution_count": 20,
     "metadata": {},
     "output_type": "execute_result"
    }
   ],
   "source": [
    "a=1\n",
    "b=3\n",
    "\n",
    "lis5=[]\n",
    "for i in range(a,b+1):\n",
    "    for j in range(a,b+1):\n",
    "        lis5.append((j,i))\n",
    "lis5"
   ]
  }
 ],
 "metadata": {
  "kernelspec": {
   "display_name": "Python 3 (ipykernel)",
   "language": "python",
   "name": "python3"
  },
  "language_info": {
   "codemirror_mode": {
    "name": "ipython",
    "version": 3
   },
   "file_extension": ".py",
   "mimetype": "text/x-python",
   "name": "python",
   "nbconvert_exporter": "python",
   "pygments_lexer": "ipython3",
   "version": "3.9.7"
  }
 },
 "nbformat": 4,
 "nbformat_minor": 5
}
